{
 "cells": [
  {
   "cell_type": "code",
   "execution_count": 2,
   "metadata": {
    "collapsed": false
   },
   "outputs": [],
   "source": [
    "local matio = require 'matio'\n",
    "-- load a single array from file\n",
    "dataX = matio.load('dataX.mat', 'dataX')\n",
    "dataY = matio.load('dataY.mat', 'dataY')\n",
    "-- print(tensor:size())\n",
    "-- -- load multiple arrays from file\n",
    "-- tensors = matio.load('test.mat',{'var1','var2'})\n",
    "-- -- load all arrays from file\n",
    "-- tensors = matio.load('test.mat')"
   ]
  },
  {
   "cell_type": "code",
   "execution_count": null,
   "metadata": {
    "collapsed": false
   },
   "outputs": [],
   "source": [
    "seq_length = 10\n",
    "for idx = 1, dataX:size(1)-10+1 do\n",
    "    sliceX = dataX[{{idx,idx+seq_length-1}, {}}]\n",
    "--     print(sliceX)\n",
    "end"
   ]
  },
  {
   "cell_type": "code",
   "execution_count": 57,
   "metadata": {
    "collapsed": false
   },
   "outputs": [
    {
     "data": {
      "text/plain": [
       " 0.6257  0.9320  0.0052  0.0626  0.0069  0.0017\n",
       " 0.6748  0.9513  0.0003  0.0356  0.0069  0.0016\n",
       " 0.7089  0.9644  0.0002  0.0181  0.0040  0.0012\n",
       " 0.7290  0.9688  0.0000  0.0019  0.0414  0.0009\n",
       " 0.7275  0.9632  0.0037  0.0016  0.4963  0.0016\n",
       " 0.6971  0.9400  0.0016  0.0019  0.7842  0.0008\n",
       " 0.6273  0.8880  0.0000  0.0025  0.8445  0.0012\n",
       " 0.4663  0.7877  0.0000  0.0015  0.8571  0.0012\n",
       " 0.1915  0.5278  0.0001  0.0109  0.8374  0.0427\n",
       " 0.0063  0.1828  0.0023  0.0226  0.8118  0.0930\n",
       "[torch.DoubleTensor of size 10x6]\n",
       "\n"
      ]
     },
     "execution_count": 57,
     "metadata": {},
     "output_type": "execute_result"
    }
   ],
   "source": [
    "require 'math'\n",
    "seq_length = 10\n",
    "idx = math.random(1, dataX:size(1)-10+1)\n",
    "print(dataX[{{idx,idx+seq_length-1}, {}}])"
   ]
  },
  {
   "cell_type": "code",
   "execution_count": 60,
   "metadata": {
    "collapsed": false
   },
   "outputs": [
    {
     "data": {
      "text/plain": [
       "58\t\n"
      ]
     },
     "execution_count": 60,
     "metadata": {},
     "output_type": "execute_result"
    }
   ],
   "source": [
    "math.floor(7524/128)"
   ]
  }
 ],
 "metadata": {
  "kernelspec": {
   "display_name": "iTorch",
   "language": "lua",
   "name": "itorch"
  },
  "language_info": {
   "name": "lua",
   "version": "5.1"
  }
 },
 "nbformat": 4,
 "nbformat_minor": 0
}
