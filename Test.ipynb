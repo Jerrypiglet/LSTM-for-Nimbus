{
 "cells": [
  {
   "cell_type": "code",
   "execution_count": 7,
   "metadata": {
    "collapsed": false
   },
   "outputs": [
    {
     "ename": "/opt/torch/install/share/lua/5.1/torch/CmdLine.lua:121: attempt to get length of local 'arg' (a nil value)\nstack traceback:\n\t/opt/torch/install/share/lua/5.1/torch/CmdLine.lua:121: in function 'parse'\n\ttrain_nonexclusively.lua:60: in main chunk\n\t[C]: in function 'f'\n\t[string \"local f = function() return dofile(\"train_non...\"]:1: in main chunk\n\t[C]: in function 'xpcall'\n\t/opt/torch/install/share/lua/5.1/itorch/main.lua:209: in function </opt/torch/install/share/lua/5.1/itorch/main.lua:173>\n\t/opt/torch/install/share/lua/5.1/lzmq/poller.lua:75: in function 'poll'\n\t/opt/torch/install/share/lua/5.1/lzmq/impl/loop.lua:307: in function 'poll'\n\t/opt/torch/install/share/lua/5.1/lzmq/impl/loop.lua:325: in function 'sleep_ex'\n\t/opt/torch/install/share/lua/5.1/lzmq/impl/loop.lua:370: in function 'start'\n\t/opt/torch/install/share/lua/5.1/itorch/main.lua:381: in main chunk\n\t[C]: in function 'require'\n\t(command line):1: in main chunk\n\t[C]: at 0x00406670",
     "evalue": "",
     "output_type": "error",
     "traceback": [
      "/opt/torch/install/share/lua/5.1/torch/CmdLine.lua:121: attempt to get length of local 'arg' (a nil value)\nstack traceback:\n\t/opt/torch/install/share/lua/5.1/torch/CmdLine.lua:121: in function 'parse'\n\ttrain_nonexclusively.lua:60: in main chunk\n\t[C]: in function 'f'\n\t[string \"local f = function() return dofile(\"train_non...\"]:1: in main chunk\n\t[C]: in function 'xpcall'\n\t/opt/torch/install/share/lua/5.1/itorch/main.lua:209: in function </opt/torch/install/share/lua/5.1/itorch/main.lua:173>\n\t/opt/torch/install/share/lua/5.1/lzmq/poller.lua:75: in function 'poll'\n\t/opt/torch/install/share/lua/5.1/lzmq/impl/loop.lua:307: in function 'poll'\n\t/opt/torch/install/share/lua/5.1/lzmq/impl/loop.lua:325: in function 'sleep_ex'\n\t/opt/torch/install/share/lua/5.1/lzmq/impl/loop.lua:370: in function 'start'\n\t/opt/torch/install/share/lua/5.1/itorch/main.lua:381: in main chunk\n\t[C]: in function 'require'\n\t(command line):1: in main chunk\n\t[C]: at 0x00406670"
     ]
    }
   ],
   "source": [
    "dofile(\"train_nonexclusively.lua\")"
   ]
  }
 ],
 "metadata": {
  "kernelspec": {
   "display_name": "iTorch",
   "language": "lua",
   "name": "itorch"
  },
  "language_info": {
   "name": "lua",
   "version": "5.1"
  }
 },
 "nbformat": 4,
 "nbformat_minor": 0
}
