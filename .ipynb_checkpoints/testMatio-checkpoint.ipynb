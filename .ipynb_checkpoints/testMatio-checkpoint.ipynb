{
 "cells": [
  {
   "cell_type": "code",
   "execution_count": null,
   "metadata": {
    "collapsed": false
   },
   "outputs": [],
   "source": [
    "local matio = require 'matio'\n",
    "-- load a single array from file\n",
    "dataX = matio.load('dataX.mat', 'dataX')\n",
    "dataY = matio.load('dataY.mat', 'dataY')\n",
    "-- print(tensor:size())\n",
    "-- -- load multiple arrays from file\n",
    "-- tensors = matio.load('test.mat',{'var1','var2'})\n",
    "-- -- load all arrays from file\n",
    "-- tensors = matio.load('test.mat')"
   ]
  },
  {
   "cell_type": "code",
   "execution_count": null,
   "metadata": {
    "collapsed": false
   },
   "outputs": [],
   "source": [
    "seq_length = 10\n",
    "for idx = 1, dataX:size(1)-10+1 do\n",
    "    sliceX = dataX[{{idx,idx+seq_length-1}, {}}]\n",
    "--     print(sliceX)\n",
    "end"
   ]
  }
 ],
 "metadata": {
  "kernelspec": {
   "display_name": "iTorch",
   "language": "lua",
   "name": "itorch"
  },
  "language_info": {
   "name": "lua",
   "version": "5.1"
  }
 },
 "nbformat": 4,
 "nbformat_minor": 0
}
